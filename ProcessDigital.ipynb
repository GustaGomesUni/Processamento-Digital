# Instale as bibliotecas necessárias
!pip install pillow cryptography

from PIL import Image
from cryptography.hazmat.primitives.asymmetric import rsa, padding
from cryptography.hazmat.primitives import hashes, serialization
import hashlib

# Geração das chaves pública e privada para encriptação
def gerar_chaves():
    chave_privada = rsa.generate_private_key(
        public_exponent=65537,
        key_size=2048,
    )
    chave_publica = chave_privada.public_key()
    return chave_privada, chave_publica

chave_privada, chave_publica = gerar_chaves()

# Função para embutir texto em uma imagem usando esteganografia
def embutir_texto(imagem_caminho, texto):
    imagem = Image.open(imagem_caminho)
    imagem = imagem.convert("RGB")
    largura, altura = imagem.size
    texto_binario = ''.join(format(ord(i), '08b') for i in texto) + '00000000'  # Caractere nulo como fim do texto
    
    idx = 0
    for y in range(altura):
        for x in range(largura):
            if idx < len(texto_binario):
                r, g, b = imagem.getpixel((x, y))
                novo_r = (r & 0xFE) | int(texto_binario[idx])  # Inserir bit do texto no LSB
                imagem.putpixel((x, y), (novo_r, g, b))
                idx += 1
            else:
                imagem.save("imagem_com_texto.png", format="PNG")
                return "imagem_com_texto.png"

# Função para recuperar texto embutido de uma imagem
def recuperar_texto(imagem_caminho):
    imagem = Image.open(imagem_caminho)
    largura, altura = imagem.size
    texto_binario = ""
    
    for y in range(altura):
        for x in range(largura):
            r, g, b = imagem.getpixel((x, y))
            texto_binario += str(r & 1)  # Extrair o bit menos significativo
            if texto_binario.endswith("00000000"):
                texto = ''.join(chr(int(texto_binario[i:i+8], 2)) for i in range(0, len(texto_binario)-8, 8))
                return texto

# Função para gerar hash de uma imagem
def gerar_hash(imagem_caminho):
    with open(imagem_caminho, "rb") as f:
        dados = f.read()
        hash_obj = hashlib.sha256(dados)
    return hash_obj.hexdigest()

# Função para encriptar uma mensagem com chave pública
def encriptar_mensagem(mensagem):
    mensagem_bytes = mensagem.encode()
    mensagem_encriptada = chave_publica.encrypt(
        mensagem_bytes,
        padding.OAEP(
            mgf=padding.MGF1(algorithm=hashes.SHA256()),
            algorithm=hashes.SHA256(),
            label=None
        )
    )
    return mensagem_encriptada

# Função para decriptar uma mensagem com chave privada
def decriptar_mensagem(mensagem_encriptada):
    mensagem_encriptada = bytes.fromhex(mensagem_encriptada)  # Converter de hexadecimal para bytes
    mensagem_decriptada = chave_privada.decrypt(
        mensagem_encriptada,
        padding.OAEP(
            mgf=padding.MGF1(algorithm=hashes.SHA256()),
            algorithm=hashes.SHA256(),
            label=None
        )
    )
    return mensagem_decriptada.decode()

# Menu interativo
def menu():
    while True:
        print("\nMenu de opções:")
        print("(1) Embutir texto em uma imagem usando Steganography")
        print("(2) Recuperar texto de uma imagem alterada por Steganography")
        print("(3) Gerar hash das imagens")
        print("(4) Encriptar mensagem com chave pública")
        print("(5) Decriptar mensagem com chave privada")
        print("(S ou s) Sair")

        opcao = input("Escolha uma opção: ")
        if opcao == "1":
            imagem_caminho = input("Caminho da imagem: ")
            texto = input("Texto para embutir: ")
            imagem_com_texto = embutir_texto(imagem_caminho, texto)
            print(f"Texto embutido e imagem salva em {imagem_com_texto}")
        
        elif opcao == "2":
            imagem_caminho = input("Caminho da imagem: ")
            texto_recuperado = recuperar_texto(imagem_caminho)
            print("Texto recuperado:", texto_recuperado)
        
        elif opcao == "3":
            imagem_caminho = input("Caminho da imagem: ")
            hash_imagem = gerar_hash(imagem_caminho)
            print("Hash da imagem:", hash_imagem)
        
        elif opcao == "4":
            mensagem = input("Mensagem para encriptar: ")
            mensagem_encriptada = encriptar_mensagem(mensagem)
            print("Mensagem encriptada (hexadecimal):", mensagem_encriptada.hex())
        
        elif opcao == "5":
            mensagem_encriptada = input("Mensagem encriptada (hexadecimal): ")
            mensagem_decriptada = decriptar_mensagem(mensagem_encriptada)
            print("Mensagem decriptada:", mensagem_decriptada)
        
        elif opcao.lower() == "s":
            print("Saindo...")
            break
        else:
            print("Opção inválida, tente novamente.")

# Executar o menu
menu()
